{
 "cells": [
  {
   "cell_type": "code",
   "execution_count": 1,
   "id": "699ab63e-610a-406c-bc34-dc8894bd06ab",
   "metadata": {},
   "outputs": [],
   "source": [
    "#Problen 1"
   ]
  },
  {
   "cell_type": "code",
   "execution_count": 51,
   "id": "73efa417-f123-45d6-b0fc-93ef3c954982",
   "metadata": {},
   "outputs": [
    {
     "name": "stdout",
     "output_type": "stream",
     "text": [
      "the location is Ghazi Road and distance is 14km \n",
      "the location is Khokhar station and distance is 25km \n",
      "the location is Biltin Road and distance is 46km \n",
      "the location is Station and distance is 97km \n",
      "Total distance covered by delivery person is 122.0\n"
     ]
    }
   ],
   "source": [
    "def distance_calculation(speed,time_limit):\n",
    "    return speed*time_limit/1000\n",
    "delivery_points=[\n",
    "                 {\"Ghazi Road\":\"14km\"},\n",
    "                 {\"Khokhar station\":\"25km\"},\n",
    "                 {\"Biltin Road\":\"46km\"},\n",
    "                 {\"Station\":\"97km\"},\n",
    "]\n",
    "starting_point=\"Multan Road\"\n",
    "time_limit_int_min=20\n",
    "max_speed=(80*1000)/3600\n",
    "prev_distance=0\n",
    "total_distance=0\n",
    "# destination=deliver_points[-1]\n",
    "for point in delivery_points:\n",
    "    for location,distance in point.items():\n",
    "        distance_value = float(distance.replace(\"km\", \"\"))\n",
    "        curr_distance=distance_value\n",
    "        prev_distance=curr_distance-prev_distance\n",
    "        total_distance+=prev_distance\n",
    "        print(f\"the location is {location} and distance is {distance} \")\n",
    "print(f\"Total distance covered by delivery person is {total_distance}\")           \n"
   ]
  },
  {
   "cell_type": "raw",
   "id": "988d1f89-8474-4388-85a5-c6199964c31c",
   "metadata": {},
   "source": []
  },
  {
   "cell_type": "markdown",
   "id": "b863f426-20f1-4bbc-941e-65a40db1b517",
   "metadata": {},
   "source": [
    "#explaination\n",
    "## Problem 1 – Delivery Path Analyzer\n",
    "\n",
    "** Objective: **  \n",
    "Develop a tracker for a delivery service.  \n",
    "\n",
    "** Approach: **  \n",
    "1. Store delivery locations and their distances using a list of dictionaries.  \n",
    "2. Extract each location and its distance value.  \n",
    "3. Use the difference between consecutive distances to find the distance covered between each stop.  \n",
    "4- Calculate the total distance covered.  \n",
    "5- Print the starting and ending points with the total distance.\n"
   ]
  },
  {
   "cell_type": "markdown",
   "id": "814316a2-6169-4ef0-9e2c-9620937a39f3",
   "metadata": {},
   "source": [
    "## Problem 2 – Shopping Cart Management\n",
    "** Logic  **\n",
    "This program allows users to add, remove, and update items in a shopping cart.\n",
    "At the end, it shows the total cost and the most expensive item.\n",
    "** Procedure **\n",
    "I make functions add,remove and update bascially use product and price and add it into  a cart.\n",
    "i make a global cart which is empty and time to time i updated it according to a requirement. \n"
   ]
  },
  {
   "cell_type": "code",
   "execution_count": 82,
   "id": "3df0a0c7-ac73-451c-a98f-c1ced5578c00",
   "metadata": {},
   "outputs": [
    {
     "name": "stdout",
     "output_type": "stream",
     "text": [
      "The product and price are: Bread and 120\n",
      "The product and price are: Cheese and 300\n",
      "Total: 420\n"
     ]
    }
   ],
   "source": [
    "cart = {}\n",
    "\n",
    "def add(product, price):\n",
    "    cart[product] = price\n",
    "\n",
    "def remove(product):\n",
    "    if product in cart:\n",
    "        del cart[product]\n",
    "\n",
    "def update(product, new_price):\n",
    "    if product in cart:\n",
    "        cart[product] = new_price\n",
    "\n",
    "def show():\n",
    "    if not cart:\n",
    "        print(\"The cart is empty\")\n",
    "    else:\n",
    "        total = sum(cart.values())\n",
    "        for p, pro in cart.items():\n",
    "            print(f\"The product and price are: {p} and {pro}\")\n",
    "        print(\"Total:\", total)\n",
    "\n",
    "add(\"Milk\", 150)\n",
    "add(\"Bread\", 100)\n",
    "add(\"Cheese\", 300)\n",
    "update(\"Bread\", 120)\n",
    "remove(\"Milk\")\n",
    "show()\n",
    "\n",
    "# product=input(\"enter the product name u want\")\n",
    "# price=int(input(\"enter the price of that product\"))\n",
    "# add(price,product)\n",
    "# #update \n",
    "# upproduct=input(\"enter the product name u want to update\")\n",
    "# upprice=int(input(\"enter the updated price\"))\n",
    "# update(price,product,upprice,upproduct) \n",
    "# #removeable \n",
    "# rproduct=input(\"enter the  productname u want to remove\")\n",
    "# rprice=int(input(\"enter thr price of that product\"))\n",
    "# remove(rprice,rproduct)"
   ]
  },
  {
   "cell_type": "markdown",
   "id": "e51e4f07-19ff-42b7-996e-db837c42ceb2",
   "metadata": {},
   "source": [
    "## Problem 3-Student Graded Managaement System \n",
    "** Logic **\n",
    " Bascially we have to   make a student graded system management and bascially i make a function for this  which works for  calculatin avergae of student and  I maek list to hardcode student name s and their marks  then i make a seperate average  dictionary which holds  all averges of student nd a the end using loop it gives us top 3 maximum performing students"
   ]
  },
  {
   "cell_type": "code",
   "execution_count": 4,
   "id": "ed2d17f2-d08e-4a75-be9d-2bd5460294c7",
   "metadata": {},
   "outputs": [
    {
     "name": "stdout",
     "output_type": "stream",
     "text": [
      "The average marks of Ali are 80.00\n",
      "The average marks of Sara are 50.00\n",
      "The average marks of Molana are 35.00\n",
      "The average marks of Ahmed are 68.33\n",
      "\n",
      "Top 3 performers:\n",
      "1. Ali - 80.00\n",
      "2. Ahmed - 68.33\n",
      "3. Sara - 50.00\n"
     ]
    }
   ],
   "source": [
    "def average(marks):\n",
    "    s = sum(marks) / len(marks)\n",
    "    return s\n",
    "\n",
    "student_marks = {\n",
    "    \"Ali\": [80, 70, 90],\n",
    "    \"Sara\": [40, 50, 60],\n",
    "    \"Molana\": [34, 35, 36],\n",
    "    \"Ahmed\": [60, 75, 70]\n",
    "}\n",
    "\n",
    "averages = {}\n",
    "\n",
    "for n, m in student_marks.items():\n",
    "    avg = average(m)\n",
    "    averages[n] = avg\n",
    "    print(f\"The average marks of {n} are {avg:.2f}\")\n",
    "\n",
    "sorted_averages = sorted(averages.items(), key=lambda x: x[1], reverse=True)\n",
    "\n",
    "print(\"\\nTop 3 performers:\")\n",
    "for i, (name, avg) in enumerate(sorted_averages[:3], start=1):\n",
    "    print(f\"{i}. {name} - {avg:.2f}\")\n"
   ]
  },
  {
   "cell_type": "markdown",
   "id": "44bc31cc-ee9d-47a5-a8e0-eed9e775d7d0",
   "metadata": {},
   "source": [
    "## Problem -4 List of Emails\n",
    "In this program we add   emails and  make two functions  name as valid and extract domain which extract the domain name and validity and then in main function \n",
    "we make a empty dictionary and store all of the  email and therir users count and at the end we use a loop to diplsy them"
   ]
  },
  {
   "cell_type": "code",
   "execution_count": 23,
   "id": "54ec6132-19e6-4411-ae1c-4e0e1784e292",
   "metadata": {},
   "outputs": [
    {
     "name": "stdout",
     "output_type": "stream",
     "text": [
      "Invalid email\n",
      "gmail.com and 2 users\n",
      "yahoo.com and 1 users\n",
      "outlook.com and 1 users\n"
     ]
    }
   ],
   "source": [
    "def valid(email):\n",
    "    return \"@\"  in email and \".\" in email\n",
    "def extractdomain(email):\n",
    "    return email.split(\"@\")[1]\n",
    "\n",
    "emails = [\n",
    "    \"ali@gmail.com\",\n",
    "    \"sara@yahoo.com\",\n",
    "    \"ahmed@gmail.com\",\n",
    "    \"molana@outlook.com\",\n",
    "    \"invalid_email.com\"\n",
    "]\n",
    "e_count={}\n",
    "for email in emails:\n",
    "    if valid(email):\n",
    "        domain=extractdomain(email)\n",
    "        if domain in e_count:\n",
    "              e_count[domain]+=1\n",
    "        else:    \n",
    "               e_count[domain]=1 \n",
    "    else:\n",
    "        print(f\"Invalid email\")\n",
    "for domain,count in e_count.items():\n",
    "     print(f\"{domain} and {count} users\")"
   ]
  },
  {
   "cell_type": "markdown",
   "id": "384e70ad-2b46-4fe5-8118-c1a37d8eb9ed",
   "metadata": {},
   "source": [
    "## Problem -4 Suggestion sof frineds\n",
    "Bascially we have to suggest the friends that are unique a.We found   muttal  friends first anff  the unique friends and simply print them."
   ]
  },
  {
   "cell_type": "markdown",
   "id": "d97c8637-6f40-4d73-8ace-edcbc77fc66e",
   "metadata": {},
   "source": [
    "user1_friends = {\"Ali\", \"Sara\", \"Ahmed\", \"Bilal\"}\n",
    "user2_friends = {\"Sara\", \"Hina\", \"Ahmed\", \"Zain\"}\n",
    "mutual = user1_friends & user2_friends\n",
    "unique = user1_friends ^ user2_friends\n",
    "suggestions = user2_friends - user1_friends\n",
    "\n",
    "print(\"Mutual Friends:\", mutual)\n",
    "print(\"Unique Friends:\", unique)\n",
    "print(\"Friend Suggestions for User1:\", suggestions)\n"
   ]
  },
  {
   "cell_type": "code",
   "execution_count": null,
   "id": "1169ea33-41d3-47c7-a859-cfa0d71b53f4",
   "metadata": {},
   "outputs": [],
   "source": [
    "# Restaurant Billing System\n",
    "** Logic **\n",
    "Bacially we take number of items from the user first and then using loop  upto number of itemms user enter prices for every item now we   count total proce \n",
    "of all items in the bill then then use the user of customer in the resturant enter the service quality eith good ,bad or avergae  and set tip  according \n",
    "tothe service quality  at the end we sumbit the total bill"
   ]
  },
  {
   "cell_type": "code",
   "execution_count": 44,
   "id": "e909dfc2-3bf4-4d30-a1a5-eadc216b74a7",
   "metadata": {},
   "outputs": [
    {
     "name": "stdin",
     "output_type": "stream",
     "text": [
      "Enter number of items:  3\n",
      "Enter price of item 1:  3\n",
      "Enter price of item 2:  3\n",
      "Enter price of item 3:  3\n",
      "Enter service quality (Excellent/Good/Average/Poor):  good\n"
     ]
    },
    {
     "name": "stdout",
     "output_type": "stream",
     "text": [
      "Subtotal: Rs. 9.00\n",
      "Tax (10%): Rs. 0.90\n",
      "Tip: Rs. 1.35\n",
      "Final Total: Rs. 11.25\n"
     ]
    }
   ],
   "source": [
    "n = int(input(\"Enter number of items: \"))\n",
    "prices = []\n",
    "for i in range(n):\n",
    "    price = float(input(f\"Enter price of item {i+1}: \"))\n",
    "    prices.append(price)\n",
    "subtotal = sum(prices)\n",
    "tax = subtotal * 0.10\n",
    "service = input(\"Enter service quality (Excellent/Good/Average/Poor): \").lower()\n",
    "if service == \"excellent\":\n",
    "    tip = subtotal * 0.20\n",
    "elif service == \"good\":\n",
    "    tip = subtotal * 0.15\n",
    "elif service == \"average\":\n",
    "    tip = subtotal * 0.10\n",
    "else:\n",
    "    tip = subtotal * 0.05\n",
    "total = subtotal + tax + tip\n",
    "print(f\"Subtotal: Rs. {subtotal:.2f}\")\n",
    "print(f\"Tax (10%): Rs. {tax:.2f}\")\n",
    "print(f\"Tip: Rs. {tip:.2f}\")\n",
    "print(f\"Final Total: Rs. {total:.2f}\")\n"
   ]
  },
  {
   "cell_type": "markdown",
   "id": "5fd65a95-8d99-44f9-bc4c-3f8dfdd01b25",
   "metadata": {},
   "source": [
    "# Transport Schedule Tracker\n",
    "** Logic **\n",
    "We have to build the tracker which calculates the total time  and distance and fastest track so e make adisctionary first and name the stops and time and distance then  sum the total stops and using max fuction we calculate the fastest track and at the end we print them "
   ]
  },
  {
   "cell_type": "code",
   "execution_count": 45,
   "id": "9f39c418-31b7-41bb-8f3b-08eb9eebabcd",
   "metadata": {},
   "outputs": [
    {
     "name": "stdout",
     "output_type": "stream",
     "text": [
      "--- Transport Schedule Tracker ---\n",
      "Total Route Time: 45 minutes\n",
      "Total Number of Stops: 4\n",
      "Fastest Segment: Stop B (0.75 km/min)\n"
     ]
    }
   ],
   "source": [
    "stops = [\n",
    "    {\"name\": \"Stop A\", \"time\": 10, \"distance\": 5},\n",
    "    {\"name\": \"Stop B\", \"time\": 8, \"distance\": 6},\n",
    "    {\"name\": \"Stop C\", \"time\": 12, \"distance\": 7},\n",
    "    {\"name\": \"Stop D\", \"time\": 15, \"distance\": 10}\n",
    "]\n",
    "total_time = sum(stop[\"time\"] for stop in stops)\n",
    "total_stops = len(stops)\n",
    "fastest = max(stops, key=lambda s: s[\"distance\"] / s[\"time\"])\n",
    "fastest_speed = fastest[\"distance\"] / fastest[\"time\"]\n",
    "print(\"--- Transport Schedule Tracker ---\")\n",
    "print(f\"Total Route Time: {total_time} minutes\")\n",
    "print(f\"Total Number of Stops: {total_stops}\")\n",
    "print(f\"Fastest Segment: {fastest['name']} ({fastest_speed:.2f} km/min)\")\n"
   ]
  },
  {
   "cell_type": "markdown",
   "id": "f4c96b9b-a4a6-4d6b-a5f8-1178d732aabc",
   "metadata": {},
   "source": [
    "# Library Catalog System\n",
    "** Logic ** :-\n",
    "--\n",
    "This is similar as that of 4th problem so we maek a dictionary and add multiple books including their name authors and their category\n",
    "then we make an empty dictionary  using loop we  integrate authors in author dictionary and then using if statement we use iff the author exist in it it  add +1 other wise it count is 1 ssimpt and at the end we print it \n"
   ]
  },
  {
   "cell_type": "code",
   "execution_count": 46,
   "id": "9191de2c-9a9b-4f80-8b01-10a3bd4a9490",
   "metadata": {},
   "outputs": [
    {
     "name": "stdout",
     "output_type": "stream",
     "text": [
      "Books per Author:\n",
      "Ali Khan: 3 books\n",
      "Sara Ahmed: 2 books\n",
      "Ahmed Raza: 1 books\n",
      "\n",
      "Author with the most books: Ali Khan (3 books)\n"
     ]
    }
   ],
   "source": [
    "books = [\n",
    "    {\"title\": \"The Silent River\", \"author\": \"Ali Khan\", \"category\": \"Fiction\"},\n",
    "    {\"title\": \"Python Basics\", \"author\": \"Sara Ahmed\", \"category\": \"Education\"},\n",
    "    {\"title\": \"AI Revolution\", \"author\": \"Sara Ahmed\", \"category\": \"Technology\"},\n",
    "    {\"title\": \"Mountain Dreams\", \"author\": \"Ali Khan\", \"category\": \"Adventure\"},\n",
    "    {\"title\": \"Data Science Guide\", \"author\": \"Ahmed Raza\", \"category\": \"Education\"},\n",
    "    {\"title\": \"Hidden Truths\", \"author\": \"Ali Khan\", \"category\": \"Mystery\"}\n",
    "]\n",
    "author_count = {}\n",
    "for book in books:\n",
    "    author = book[\"author\"]\n",
    "    if author in author_count:\n",
    "        author_count[author] += 1\n",
    "    else:\n",
    "        author_count[author] = 1\n",
    "most_books_author = max(author_count, key=author_count.get)\n",
    "most_books = author_count[most_books_author]\n",
    "print(\"Books per Author:\")\n",
    "for author, count in author_count.items():\n",
    "    print(f\"{author}: {count} books\")\n",
    "\n",
    "print(f\"\\nAuthor with the most books: {most_books_author} ({most_books} books)\")\n"
   ]
  },
  {
   "cell_type": "markdown",
   "id": "1f397c78-51b3-47e4-afc3-8c4d3673a0de",
   "metadata": {},
   "source": [
    "## -problem 9 -  Sports Tournament Statistics\n",
    "In this problem we have to track the score and team names .So we use the same concept of dictionary and  using for loop we added the scores in an empty dictionary name team_scores and at the end we print it \n"
   ]
  },
  {
   "cell_type": "markdown",
   "id": "0ce90f21-bbdf-41e6-9598-cc8bd93b5ae9",
   "metadata": {},
   "source": [
    "\n",
    "matches = [\n",
    "    {\"team\": \"Tigers\", \"score\": 80},\n",
    "    {\"team\": \"Eagles\", \"score\": 75},\n",
    "    {\"team\": \"Lions\", \"score\": 90},\n",
    "    {\"team\": \"Panthers\", \"score\": 85},\n",
    "    {\"team\": \"Tigers\", \"score\": 95},\n",
    "    {\"team\": \"Lions\", \"score\": 70}\n",
    "]\n",
    "\n",
    "team_scores = {}\n",
    "\n",
    "for match in matches:\n",
    "    team = match[\"team\"]\n",
    "    score = match[\"score\"]\n",
    "\n",
    "    if team in team_scores:\n",
    "        team_scores[team].append(score)\n",
    "    else:\n",
    "        team_scores[team] = [score]\n",
    "\n",
    "        \n",
    "average_scores = {team: sum(scores)/len(scores) for team, scores in team_scores.items()}\n",
    "#total scores\n",
    "total_scores = {team: sum(scores) for team, scores in team_scores.items()}\n",
    "winner = max(total_scores, key=total_scores.get)\n",
    "unique_teams = len(team_scores)\n",
    "\n",
    "for team, avg in average_scores.items():\n",
    "    print(f\"{team}: Average Score = {avg:.2f}, Total Score = {total_scores[team]}\")\n",
    "\n",
    "print(f\"Winning Team: {winner} Total Score: {total_scores[winner]})\")\n",
    "print(f\"Unique Teams: {unique_teams}\")\n"
   ]
  },
  {
   "cell_type": "code",
   "execution_count": 52,
   "id": "4f96950a-897d-46ed-8a93-c4e67f89b55b",
   "metadata": {},
   "outputs": [],
   "source": [
    "## Problem 10 \n",
    "In this program  we have to calculate the temperature of 30days so we use the same concetp for it  we calculate the total temoperature ,theri sum and on the basis\n",
    "    of tmperature we calculate the maximum temperature of that day\n",
    "\n"
   ]
  },
  {
   "cell_type": "code",
   "execution_count": 53,
   "id": "9e160d54-4a21-4266-946d-df619126ecfc",
   "metadata": {},
   "outputs": [
    {
     "name": "stdout",
     "output_type": "stream",
     "text": [
      "Average Temperature: 30.40°C\n",
      "Hottest Day: Day 4 (35°C, Sunny)\n",
      "Most Frequent Weather Condition: Sunny\n"
     ]
    }
   ],
   "source": [
    "# we have to maek it for 30 days  that is too lengthy but i hardcode it for almost 10 days \n",
    "weather_data = [\n",
    "    {\"day\": 1, \"temp\": 32, \"condition\": \"Sunny\"},\n",
    "    {\"day\": 2, \"temp\": 28, \"condition\": \"Cloudy\"},\n",
    "    {\"day\": 3, \"temp\": 30, \"condition\": \"Rainy\"},\n",
    "    {\"day\": 4, \"temp\": 35, \"condition\": \"Sunny\"},\n",
    "    {\"day\": 5, \"temp\": 33, \"condition\": \"Sunny\"},\n",
    "    {\"day\": 6, \"temp\": 25, \"condition\": \"Rainy\"},\n",
    "    {\"day\": 7, \"temp\": 31, \"condition\": \"Cloudy\"},\n",
    "    {\"day\": 8, \"temp\": 29, \"condition\": \"Sunny\"},\n",
    "    {\"day\": 9, \"temp\": 34, \"condition\": \"Sunny\"},\n",
    "    {\"day\": 10, \"temp\": 27, \"condition\": \"Rainy\"},\n",
    "    # up to  30 days\n",
    "]\n",
    "total_temp = sum(day[\"temp\"] for day in weather_data)\n",
    "average_temp = total_temp / len(weather_data)\n",
    "hottest_day = max(weather_data, key=lambda d: d[\"temp\"])\n",
    "condition_count = {}\n",
    "for day in weather_data:\n",
    "    condition = day[\"condition\"]\n",
    "    condition_count[condition] = condition_count.get(condition, 0) + 1\n",
    "most_frequent = max(condition_count, key=condition_count.get)\n",
    "print(f\"Average Temperature: {average_temp:.2f}°C\")\n",
    "print(f\"Hottest Day: Day {hottest_day['day']} ({hottest_day['temp']}°C, {hottest_day['condition']})\")\n",
    "print(f\"Most Frequent Weather Condition: {most_frequent}\")\n"
   ]
  },
  {
   "cell_type": "markdown",
   "id": "cc736298-6b15-416f-b6a0-88cc56c19e2b",
   "metadata": {},
   "source": [
    "#Problem -11 Employ Attendence system \n",
    "We have to calculate the maximum number of presence andattendnce in it  so we basically make a dictionary in which hardcode Abent and present  and then using for loop we calculate the items of attendence  then using percenage fromual we  print it "
   ]
  },
  {
   "cell_type": "code",
   "execution_count": 54,
   "id": "46543483-9592-42a3-adcf-3c1781231674",
   "metadata": {},
   "outputs": [
    {
     "name": "stdout",
     "output_type": "stream",
     "text": [
      "Ali: 80.00\n",
      "Sara: 40.00\n",
      "Hamza: 40.00\n",
      "\n",
      "Employee with most absences: Sara\n"
     ]
    }
   ],
   "source": [
    "employees = [\"Ali\", \"Sara\", \"Hamza\"]\n",
    "attendance = {\n",
    "    \"Ali\":   [\"P\", \"P\", \"P\", \"A\", \"P\"],\n",
    "    \"Sara\":  [\"P\", \"A\", \"P\", \"A\", \"A\"],\n",
    "    \"Hamza\": [\"A\", \"A\", \"P\", \"A\", \"P\"]\n",
    "}\n",
    "for name, record in attendance.items():\n",
    "    total_days = len(record)\n",
    "    present = record.count(\"P\")\n",
    "    percent = (present / total_days) * 100\n",
    "\n",
    "    print(f\"{name}: {percent:.2f}\")\n",
    "\n",
    "    if present == total_days:\n",
    "        print(f\"{name} has perfect attendance!\")\n",
    "most_absent = max(attendance, key=lambda n: attendance[n].count(\"A\"))\n",
    "print(f\"\\nEmployee with most absences: {most_absent}\")\n"
   ]
  },
  {
   "cell_type": "markdown",
   "id": "ff886cef-0c3f-4c9b-859f-4eb47b0f5067",
   "metadata": {},
   "source": [
    "# Probblem 12 Fitness Tracker\n",
    "** Logic **\n",
    "-- \n",
    "Wecalculate the fitness names and hardcode their department  so using loops wwe calculate their calories and avg time in th egym and all activities"
   ]
  },
  {
   "cell_type": "code",
   "execution_count": 56,
   "id": "1136a1ab-59b9-49a6-a5d9-45f2fd6e114b",
   "metadata": {},
   "outputs": [
    {
     "name": "stdout",
     "output_type": "stream",
     "text": [
      "Ali: 400 calories burned, avg time = 25.0 min\n",
      "Sara: 320 calories burned, avg time = 32.5 min\n",
      "Hamza: 480 calories burned, avg time = 42.5 min\n",
      "\n",
      "Unique activity types: Yoga, Cycling, Running, Gym\n"
     ]
    }
   ],
   "source": [
    "fitness = {\n",
    "    \"Ali\":   [(\"Running\", 30, 250), (\"Cycling\", 20, 150)],\n",
    "    \"Sara\":  [(\"Yoga\", 40, 120), (\"Running\", 25, 200)],\n",
    "    \"Hamza\": [(\"Cycling\", 35, 180), (\"Gym\", 50, 300)]\n",
    "}\n",
    "all_activities = set()\n",
    "\n",
    "for user, activities in fitness.items():\n",
    "    total_calories = 0\n",
    "    total_time = 0\n",
    "\n",
    "    for act, time, calories in activities:\n",
    "        total_calories += calories\n",
    "        total_time += time\n",
    "        all_activities.add(act)\n",
    "\n",
    "    avg_time = total_time / len(activities)\n",
    "    print(f\"{user}: {total_calories} calories burned, avg time = {avg_time:.1f} min\")\n",
    "\n",
    "print(\"\\nUnique activity types:\", \", \".join(all_activities))\n"
   ]
  },
  {
   "cell_type": "markdown",
   "id": "71578b26-9131-44e5-9653-db26df780a17",
   "metadata": {},
   "source": [
    "# Problem 13 OnlineQuiz EValuator \n",
    "** Logic ** \n",
    "--\n",
    "Students' quiz data\n",
    "We calculate the online quiz data of the evaluator so we basically hardcide data with thei names and alot of  numbering data  so by  using loop  we calculate average score and  highest score and at the end print it "
   ]
  },
  {
   "cell_type": "code",
   "execution_count": 57,
   "id": "b3b25811-81bd-4b21-acbd-286997c84c1f",
   "metadata": {},
   "outputs": [
    {
     "name": "stdout",
     "output_type": "stream",
     "text": [
      "Average Score: 70.00\n",
      "Highest Scorer: Ayesha (90 marks)\n",
      "Students who passed: Ali, Sara, Ayesha\n"
     ]
    }
   ],
   "source": [
    "quiz = {\n",
    "    \"Ali\": (85, 20),\n",
    "    \"Sara\": (60, 25),\n",
    "    \"Hamza\": (45, 22),\n",
    "    \"Ayesha\": (90, 18)\n",
    "}\n",
    "total_score = 0\n",
    "for score, time in quiz.values():\n",
    "    total_score += score\n",
    "avg_score = total_score / len(quiz)\n",
    "highest_scorer = max(quiz, key=lambda name: quiz[name][0])\n",
    "passing_students = [name for name, (score, time) in quiz.items() if score >= 50]\n",
    "\n",
    "print(f\"Average Score: {avg_score:.2f}\")\n",
    "print(f\"Highest Scorer: {highest_scorer} ({quiz[highest_scorer][0]} marks)\")\n",
    "print(\"Students who passed:\", \", \".join(passing_students))\n"
   ]
  },
  {
   "cell_type": "markdown",
   "id": "fa72bd2a-6f0c-4490-b941-2149f7153cad",
   "metadata": {},
   "source": [
    "# Problem 14 Hotel Booking Managament  System\n",
    "In this program we haave to calculate the valiidity of the room in the hotel  and stays cost so we use the same conceppt as we use previous.We hardcode the \n",
    "romm number and their cost in the dictionary  and then  use first enter the room  number by entering the key and then aadd cost of that room for one night and then \n",
    "we calculate by multipllying the one night cost wooth the roomcost ad then print it "
   ]
  },
  {
   "cell_type": "code",
   "execution_count": 61,
   "id": "d2e52698-74f8-4c02-87e9-e9454056c7f4",
   "metadata": {},
   "outputs": [
    {
     "name": "stdin",
     "output_type": "stream",
     "text": [
      "Enter room number to check booking:  101\n",
      "Enter number of nights:  2\n"
     ]
    },
    {
     "name": "stdout",
     "output_type": "stream",
     "text": [
      "Room 101 is booked total cost for 2 nights: Rs 8000\n",
      "Available rooms:\n",
      "102 104 Occupied rooms:\n",
      "101 103 "
     ]
    }
   ],
   "source": [
    "rooms = {\n",
    "    101: True,\n",
    "    102: False,\n",
    "    103: True,\n",
    "    104: False,\n",
    "}\n",
    "room_cost = {\n",
    "    101: 4000,\n",
    "    102: 3500,\n",
    "    103: 5000,\n",
    "    104: 3000\n",
    "}\n",
    "\n",
    "room_no = int(input(\"Enter room  key number to check booking: \"))\n",
    "nights = int(input(\"Enter number of nights: \"))\n",
    "if rooms[room_no] == True:\n",
    "    total_cost = room_cost[room_no] * nights\n",
    "    print(f\"Room {room_no} is booked total cost for {nights} nights: Rs {total_cost}\")\n",
    "else:\n",
    "    print(f\"Room {room_no} is available for booking.\")\n",
    "print(\"Available rooms:\")\n",
    "for r in rooms:\n",
    "    if rooms[r] == False:\n",
    "        print(r, end=\" \")\n",
    "print(\"Occupied rooms:\")\n",
    "for r in rooms:\n",
    "    if rooms[r] == True:\n",
    "        print(r, end=\" \")\n"
   ]
  },
  {
   "cell_type": "markdown",
   "id": "3f3db87c-5e44-451b-9ea4-cdad9880e797",
   "metadata": {},
   "source": [
    "# Problem -15  – Expense & Budget Tracker \n",
    "** Logic **\n",
    "This uses the same concept  as we use above so basically hhaardcode the expenses and budget  and then calculaate the total dictionary aanf by\n",
    "using loop we add the ammount into the dictionary if it exits and if it donot exist it's vale is one an dat the end  print it \n"
   ]
  },
  {
   "cell_type": "code",
   "execution_count": 64,
   "id": "f9d2e09f-502a-4c50-9bd8-bfc61fabe951",
   "metadata": {},
   "outputs": [
    {
     "name": "stdout",
     "output_type": "stream",
     "text": [
      "Food: Spent Rs 800, Budget Rs 700Exceeded!\n",
      "Transport: Spent Rs 350, Budget Rs 300Exceeded!\n",
      "Entertainment: Spent Rs 400, Budget Rs 500 Within budget\n",
      "\n",
      "Largest single expense: Food Rs 500\n"
     ]
    }
   ],
   "source": [
    "expenses = [\n",
    "    (\"Food\", 500),\n",
    "    (\"Transport\", 200),\n",
    "    (\"Food\", 300),\n",
    "    (\"Entertainment\", 400),\n",
    "    (\"Transport\", 150)\n",
    "]\n",
    "\n",
    "budget = {\n",
    "    \"Food\": 700,\n",
    "    \"Transport\": 300,\n",
    "    \"Entertainment\": 500\n",
    "}\n",
    "totals = {}\n",
    "for category, amount in expenses:\n",
    "    if category in totals:\n",
    "        totals[category] += amount\n",
    "    else:\n",
    "        totals[category] = amount\n",
    "for cat in totals:\n",
    "    print(f\"{cat}: Spent Rs {totals[cat]}, Budget Rs {budget[cat]}\", end=\"\")\n",
    "    if totals[cat] > budget[cat]:\n",
    "        print(\"Exceeded!\")\n",
    "    else:\n",
    "        print(\" Within budget\")\n",
    "largest = max(expenses, key=lambda x: x[1])\n",
    "print(f\"\\nLargest single expense: {largest[0]} Rs {largest[1]}\")\n"
   ]
  },
  {
   "cell_type": "markdown",
   "id": "b4c5db1f-d39d-4f40-828a-0625e6f66dc4",
   "metadata": {},
   "source": [
    "# Problem -16 Integrated Real-World System: Smart Business Manager\n",
    "** Logic **\n",
    "In this program we have bascially  develop a transaction system.So I make function for better understanding .In  this we have bascially  make a dictionary ad add all of the data related to data ,category ,amount and t_typpe name as transaction type in it.and in total sumary is bascially summamrize the transaction in it and at the end we print it ."
   ]
  },
  {
   "cell_type": "code",
   "execution_count": 66,
   "id": "9ab700a3-5cf4-44a7-9783-32c9caf04616",
   "metadata": {},
   "outputs": [
    {
     "name": "stdout",
     "output_type": "stream",
     "text": [
      "\n",
      "--- Smart Business Manager Report ---\n",
      "All Transactions:\n",
      "2025-10-01 | Income | Rs 5000 | Sales\n",
      "2025-10-02 | Expense | Rs 1500 | Rent\n",
      "2025-10-03 | Expense | Rs 700 | Utilities\n",
      "2025-10-04 | Income | Rs 2000 | Services\n",
      "2025-10-05 | Expense | Rs 1200 | Supplies\n",
      "\n",
      "Totals by Category:\n",
      "Sales: Rs 5000\n",
      "Rent: Rs 1500\n",
      "Utilities: Rs 700\n",
      "Services: Rs 2000\n",
      "Supplies: Rs 1200\n",
      "\n",
      "Highest Expense: Rs 1500 on Rent (2025-10-02)\n"
     ]
    }
   ],
   "source": [
    "transactions = []\n",
    "\n",
    "# Add transaction\n",
    "def add_transaction(date, t_type, amount, category):\n",
    "    transaction = {\n",
    "        \"date\": date,\n",
    "        \"t_type\": t_type,\n",
    "        \"amount\": amount,\n",
    "        \"category\": category\n",
    "    }\n",
    "    transactions.append(transaction)\n",
    "\n",
    "# Total summary by category\n",
    "def total_summary():\n",
    "    summary = {}\n",
    "    for t in transactions:\n",
    "        cat = t[\"category\"]\n",
    "        if cat in summary:\n",
    "            summary[cat] += t[\"amount\"]\n",
    "        else:\n",
    "            summary[cat] = t[\"amount\"]\n",
    "    return summary\n",
    "\n",
    "# Highest expense\n",
    "def highest_expense():\n",
    "    max_trans = None\n",
    "    max_amount = 0\n",
    "    for t in transactions:\n",
    "        if t[\"t_type\"].lower() == \"expense\" and t[\"amount\"] > max_amount:\n",
    "            max_amount = t[\"amount\"]\n",
    "            max_trans = t\n",
    "    return max_trans\n",
    "\n",
    "# Show report\n",
    "def show():\n",
    "    print(\"\\n--- Smart Business Manager Report ---\")\n",
    "    print(\"All Transactions:\")\n",
    "    for t in transactions:\n",
    "        print(f\"{t['date']} | {t['t_type']} | Rs {t['amount']} | {t['category']}\")\n",
    "    \n",
    "    totals = total_summary()\n",
    "    print(\"\\nTotals by Category:\")\n",
    "    for cat, amt in totals.items():\n",
    "        print(f\"{cat}: Rs {amt}\")\n",
    "\n",
    "    max_exp = highest_expense()\n",
    "    if max_exp:\n",
    "        print(f\"\\nHighest Expense: Rs {max_exp['amount']} on {max_exp['category']} ({max_exp['date']})\")\n",
    "    else:\n",
    "        print(\"\\nNo expenses recorded.\")\n",
    "\n",
    "# Example transactions\n",
    "add_transaction(\"2025-10-01\", \"Income\", 5000, \"Sales\")\n",
    "add_transaction(\"2025-10-02\", \"Expense\", 1500, \"Rent\")\n",
    "add_transaction(\"2025-10-03\", \"Expense\", 700, \"Utilities\")\n",
    "add_transaction(\"2025-10-04\", \"Income\", 2000, \"Services\")\n",
    "add_transaction(\"2025-10-05\", \"Expense\", 1200, \"Supplies\")   \n",
    "\n",
    "# Generate report\n",
    "show()\n"
   ]
  },
  {
   "cell_type": "code",
   "execution_count": null,
   "id": "e399cbdf-f3d3-4ae0-aa86-e33165646eb8",
   "metadata": {},
   "outputs": [],
   "source": []
  }
 ],
 "metadata": {
  "kernelspec": {
   "display_name": "Python 3 (ipykernel)",
   "language": "python",
   "name": "python3"
  },
  "language_info": {
   "codemirror_mode": {
    "name": "ipython",
    "version": 3
   },
   "file_extension": ".py",
   "mimetype": "text/x-python",
   "name": "python",
   "nbconvert_exporter": "python",
   "pygments_lexer": "ipython3",
   "version": "3.13.5"
  }
 },
 "nbformat": 4,
 "nbformat_minor": 5
}
